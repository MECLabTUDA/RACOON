{
 "cells": [
  {
   "cell_type": "markdown",
   "metadata": {},
   "source": [
    "## <center> Accuracy calculating of JIP models </center>"
   ]
  },
  {
   "cell_type": "markdown",
   "metadata": {},
   "source": [
    "This Notebook calculates the mean accuracy of the train, validation and test results of models trained using JIP. Further the mean accuracies of the In Distribution and Out Of Distribution tests will be calculated.\n",
    "Before executing this Notebook, be sure to have trained all 6 artefact models using the provided code in three steps:\n",
    "    \n",
    "1. Preprocess all datasets (train and test) using the following command:\n",
    "```bash\n",
    "python JIP.py --mode preprocess --device <cuda_id> --datatype train\n",
    "```  \n",
    "and   \n",
    "```bash\n",
    "python JIP.py --mode preprocess --device <cuda_id> --datatype test\n",
    "```\n",
    "2. Train all 6 models using the following command:\n",
    "```bash\n",
    "python JIP.py --mode train --device <cuda_id> --datatype train --noise_type <noise_model>\n",
    "```\n",
    "3. Perform the testing as follows:\n",
    "```bash\n",
    "python JIP.py --mode testIOOD --device <cuda_id> --datatype test --noise_type <noise_model>\n",
    "```\n",
    "\n",
    "\n",
    "Once this is finished, everything is set up to run the Notebook."
   ]
  },
  {
   "cell_type": "markdown",
   "metadata": {},
   "source": [
    "#### Import necessary libraries"
   ]
  },
  {
   "cell_type": "code",
   "execution_count": 1,
   "metadata": {},
   "outputs": [],
   "source": [
    "import os\n",
    "import numpy as np"
   ]
  },
  {
   "cell_type": "markdown",
   "metadata": {},
   "source": [
    "#### Set necessary directories\n",
    "Specify the train_base and test_base directory. These are just the full paths to the JIP folder train_dirs and test_dirs output, for instance: `../JIP/train_dirs/output` and `../JIP/test_dirs/output`."
   ]
  },
  {
   "cell_type": "code",
   "execution_count": 2,
   "metadata": {},
   "outputs": [],
   "source": [
    "# Set the base path to JIP/train_dirs/output folder\n",
    "train_base = '<path>/JIP/train_dirs/output/'\n",
    "# Set the base path to JIP/test_dirs/output folder\n",
    "test_base = '<path>/JIP/test_dirs/output/'"
   ]
  },
  {
   "cell_type": "markdown",
   "metadata": {},
   "source": [
    "#### Calculate the accuracies and print them"
   ]
  },
  {
   "cell_type": "code",
   "execution_count": 3,
   "metadata": {},
   "outputs": [
    {
     "name": "stdout",
     "output_type": "stream",
     "text": [
      "\n",
      "Model blur:\n",
      "\tTrain acccuracy: 65.85%\n",
      "\tValidation acccuracy: 50.22%\n",
      "\tTest (Dataloader) acccuracy: 64.64%\n",
      "\tTest (In Distribution) acccuracy: 35.62%\n",
      "\tTest (Out Of Distribution) acccuracy: 23.21%\n",
      "\n",
      "Model ghosting:\n",
      "\tTrain acccuracy: 71.51%\n",
      "\tValidation acccuracy: 61.56%\n",
      "\tTest (Dataloader) acccuracy: 71.63%\n",
      "\tTest (In Distribution) acccuracy: 94.38%\n",
      "\tTest (Out Of Distribution) acccuracy: 94.20%\n",
      "\n",
      "Model motion:\n",
      "\tTrain acccuracy: 54.65%\n",
      "\tValidation acccuracy: 55.18%\n",
      "\tTest (Dataloader) acccuracy: 51.64%\n",
      "\tTest (In Distribution) acccuracy: 43.75%\n",
      "\tTest (Out Of Distribution) acccuracy: 75.00%\n",
      "\n",
      "Model noise:\n",
      "\tTrain acccuracy: 54.21%\n",
      "\tValidation acccuracy: 38.33%\n",
      "\tTest (Dataloader) acccuracy: 45.61%\n",
      "\tTest (In Distribution) acccuracy: 73.75%\n",
      "\tTest (Out Of Distribution) acccuracy: 72.32%\n",
      "\n",
      "Model resolution:\n",
      "\tTrain acccuracy: 73.93%\n",
      "\tValidation acccuracy: 73.58%\n",
      "\tTest (Dataloader) acccuracy: 70.89%\n",
      "\tTest (In Distribution) acccuracy: 86.88%\n",
      "\tTest (Out Of Distribution) acccuracy: 84.82%\n",
      "\n",
      "Model spike:\n",
      "\tTrain acccuracy: 65.15%\n",
      "\tValidation acccuracy: 65.19%\n",
      "\tTest (Dataloader) acccuracy: 59.21%\n",
      "\tTest (In Distribution) acccuracy: 88.12%\n",
      "\tTest (Out Of Distribution) acccuracy: 80.80%\n"
     ]
    }
   ],
   "source": [
    "# Load data for each artefact and calculate mean accuracy\n",
    "artefacts = ['blur', 'ghosting', 'motion', 'noise', 'resolution', 'spike']\n",
    "\n",
    "for artefact in artefacts:\n",
    "    print('\\nModel {}:'.format(artefact))\n",
    "    train = np.load(os.path.join(train_base, artefact, 'results/accuracy_train.npy'))\n",
    "    val = np.load(os.path.join(train_base, artefact, 'results/accuracy_validation.npy'))\n",
    "    test = np.load(os.path.join(train_base, artefact, 'results/accuracy_test.npy'))\n",
    "    test_ID = np.load(os.path.join(test_base, artefact, 'testID_results/accuracy_test.npy'))\n",
    "    test_OOD = np.load(os.path.join(test_base, artefact, 'testOOD_results/accuracy_test.npy'))\n",
    "    \n",
    "    # Calculate train accuracy\n",
    "    train_acc = 0\n",
    "    for i in range(len(train)):\n",
    "        train_acc += train[i][1]\n",
    "    print('\\tTrain acccuracy: %.2f' %(train_acc/len(train)) + '%')\n",
    "    \n",
    "    # Calculate validation accuracy\n",
    "    val_acc = 0\n",
    "    for i in range(len(val)):\n",
    "        val_acc += val[i][1]\n",
    "    print('\\tValidation acccuracy: %.2f' %(val_acc/len(val)) + '%')\n",
    "    \n",
    "    # Calculate test accuracy\n",
    "    test_acc = 0\n",
    "    for i in range(len(test)):\n",
    "        test_acc += test[i][1]\n",
    "    print('\\tTest (Dataloader) acccuracy: %.2f' %(test_acc/len(test)) + '%')\n",
    "    \n",
    "    # Calculate test_ID accuracy\n",
    "    test_acc = 0\n",
    "    for i in range(len(test_ID)):\n",
    "        test_acc += test_ID[i][1]\n",
    "    print('\\tTest (In Distribution) acccuracy: %.2f' %(test_acc/len(test_ID)) + '%')\n",
    "    \n",
    "    # Calculate test_OOD accuracy\n",
    "    test_acc = 0\n",
    "    for i in range(len(test_OOD)):\n",
    "        test_acc += test_OOD[i][1]\n",
    "    print('\\tTest (Out Of Distribution) acccuracy: %.2f' %(test_acc/len(test_OOD)) + '%')"
   ]
  }
 ],
 "metadata": {
  "kernelspec": {
   "display_name": "Python 3",
   "language": "python",
   "name": "python3"
  },
  "language_info": {
   "codemirror_mode": {
    "name": "ipython",
    "version": 3
   },
   "file_extension": ".py",
   "mimetype": "text/x-python",
   "name": "python",
   "nbconvert_exporter": "python",
   "pygments_lexer": "ipython3",
   "version": "3.9.1"
  }
 },
 "nbformat": 4,
 "nbformat_minor": 4
}
